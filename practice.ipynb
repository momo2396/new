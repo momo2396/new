{
 "cells": [
  {
   "cell_type": "code",
   "execution_count": 1,
   "metadata": {},
   "outputs": [
    {
     "name": "stdout",
     "output_type": "stream",
     "text": [
      "hello\n"
     ]
    }
   ],
   "source": [
    "print('hello')"
   ]
  },
  {
   "cell_type": "code",
   "execution_count": 5,
   "metadata": {},
   "outputs": [
    {
     "data": {
      "text/latex": [
       "$\\displaystyle x^{2} + 3 x + 5$"
      ],
      "text/plain": [
       "x**2 + 3*x + 5"
      ]
     },
     "metadata": {},
     "output_type": "display_data"
    }
   ],
   "source": [
    "import sympy as sp\n",
    "sp.sqrt(2)\n",
    "x = sp.symbols('x')\n",
    "expr = x**2 + 3*x+ 5\n",
    "display(expr)"
   ]
  },
  {
   "cell_type": "code",
   "execution_count": 6,
   "metadata": {},
   "outputs": [
    {
     "data": {
      "text/latex": [
       "$\\displaystyle \\sin^{2}{\\left(x \\right)} + \\cos^{2}{\\left(x \\right)} + 1$"
      ],
      "text/plain": [
       "sin(x)**2 + cos(x)**2 + 1"
      ]
     },
     "execution_count": 6,
     "metadata": {},
     "output_type": "execute_result"
    }
   ],
   "source": [
    "sp.sin(x)**2 + sp.cos(x)**2 +1"
   ]
  },
  {
   "cell_type": "code",
   "execution_count": 14,
   "metadata": {},
   "outputs": [
    {
     "data": {
      "text/latex": [
       "$\\displaystyle x - \\frac{x^{3}}{6} + \\frac{x^{5}}{120} - \\frac{x^{7}}{5040} + \\frac{x^{9}}{362880} + O\\left(x^{10}\\right)$"
      ],
      "text/plain": [
       "x - x**3/6 + x**5/120 - x**7/5040 + x**9/362880 + O(x**10)"
      ]
     },
     "metadata": {},
     "output_type": "display_data"
    },
    {
     "data": {
      "text/latex": [
       "$\\displaystyle x^{2} + 2 x$"
      ],
      "text/plain": [
       "x**2 + 2*x"
      ]
     },
     "execution_count": 14,
     "metadata": {},
     "output_type": "execute_result"
    }
   ],
   "source": [
    "x, y = sp.symbols('x y')\n",
    "y = sp.sin(x)\n",
    "expr = sp.series(y, x, n = 10)\n",
    "display(expr)\n",
    "2*x/6\n",
    "expr = x*(x+2)\n",
    "sp.expand(expr)"
   ]
  },
  {
   "cell_type": "code",
   "execution_count": 24,
   "metadata": {},
   "outputs": [
    {
     "data": {
      "text/latex": [
       "$\\displaystyle t \\left(s + 2\\right) \\left(t - 3\\right)$"
      ],
      "text/plain": [
       "t*(s + 2)*(t - 3)"
      ]
     },
     "execution_count": 24,
     "metadata": {},
     "output_type": "execute_result"
    }
   ],
   "source": [
    "s, t= sp.symbols('s, t')\n",
    "poly = t*(s+2)*(t-3)\n",
    "poly.expand()\n",
    "poly.factor()"
   ]
  },
  {
   "cell_type": "code",
   "execution_count": 38,
   "metadata": {},
   "outputs": [
    {
     "data": {
      "text/latex": [
       "$\\displaystyle x_{0}^{2} x_{1} + x_{0} x_{1} x_{2} + 2 x_{1} x_{2} + x_{1} + 56$"
      ],
      "text/plain": [
       "x0**2*x1 + x0*x1*x2 + 2*x1*x2 + x1 + 56"
      ]
     },
     "execution_count": 38,
     "metadata": {},
     "output_type": "execute_result"
    }
   ],
   "source": [
    "x_v = sp.symbols('x0:3')\n",
    "# type(x_v)\n",
    "ex = x_v[0]**2*x_v[1]+x_v[1]+x_v[1]*2*x_v[2]+56+x_v[2]*x_v[1]*x_v[0]\n",
    "ex\n",
    "sp.factor(ex)"
   ]
  },
  {
   "cell_type": "code",
   "execution_count": 34,
   "metadata": {},
   "outputs": [
    {
     "data": {
      "text/latex": [
       "$\\displaystyle x_{0}^{2} x_{1} + x_{0} x_{1} x_{2} + 2 x_{1} x_{2} + x_{1} + 56$"
      ],
      "text/plain": [
       "x0**2*x1 + x0*x1*x2 + 2*x1*x2 + x1 + 56"
      ]
     },
     "execution_count": 34,
     "metadata": {},
     "output_type": "execute_result"
    }
   ],
   "source": []
  },
  {
   "cell_type": "code",
   "execution_count": 37,
   "metadata": {},
   "outputs": [
    {
     "data": {
      "text/latex": [
       "$\\displaystyle x_{0} x_{1} x_{2} \\left(x_{0} + 1\\right)$"
      ],
      "text/plain": [
       "x0*x1*x2*(x0 + 1)"
      ]
     },
     "execution_count": 37,
     "metadata": {},
     "output_type": "execute_result"
    }
   ],
   "source": [
    "x = sp.symbols('x0:3')\n",
    "\n",
    "ex = x[0]**2 *x[1]*x[2]+x[0]*x[1]*x[2]\n",
    "ex.factor()"
   ]
  },
  {
   "cell_type": "markdown",
   "metadata": {},
   "source": [
    "#Why data types in sympy matter"
   ]
  },
  {
   "cell_type": "code",
   "execution_count": 41,
   "metadata": {},
   "outputs": [
    {
     "data": {
      "text/latex": [
       "$\\displaystyle x^{0.333333333333333}$"
      ],
      "text/plain": [
       "x**0.333333333333333"
      ]
     },
     "metadata": {},
     "output_type": "display_data"
    },
    {
     "data": {
      "text/latex": [
       "$\\displaystyle \\sqrt[3]{x}$"
      ],
      "text/plain": [
       "x**(1/3)"
      ]
     },
     "metadata": {},
     "output_type": "display_data"
    }
   ],
   "source": [
    "x = sp.Symbol('x')\n",
    "expr = x**(1/3)\n",
    "display(expr)\n",
    "expr = x**(sp.Integer(1)/sp.Integer(3))\n",
    "display(expr)"
   ]
  },
  {
   "cell_type": "code",
   "execution_count": 42,
   "metadata": {},
   "outputs": [
    {
     "data": {
      "text/latex": [
       "$\\displaystyle \\frac{1}{3}$"
      ],
      "text/plain": [
       "1/3"
      ]
     },
     "execution_count": 42,
     "metadata": {},
     "output_type": "execute_result"
    }
   ],
   "source": [
    "sp.Rational(1, 3)"
   ]
  },
  {
   "cell_type": "code",
   "execution_count": 48,
   "metadata": {},
   "outputs": [
    {
     "data": {
      "text/latex": [
       "$\\displaystyle \\infty$"
      ],
      "text/plain": [
       "oo"
      ]
     },
     "execution_count": 48,
     "metadata": {},
     "output_type": "execute_result"
    }
   ],
   "source": [
    "# r =sp.pi *3\n",
    "# sp.solve(r)\n",
    "sp.oo\n"
   ]
  },
  {
   "cell_type": "code",
   "execution_count": 55,
   "metadata": {},
   "outputs": [
    {
     "data": {
      "text/latex": [
       "$\\displaystyle -1$"
      ],
      "text/plain": [
       "-1"
      ]
     },
     "execution_count": 55,
     "metadata": {},
     "output_type": "execute_result"
    }
   ],
   "source": [
    "sp.oo - sp.oo\n",
    "sp.I\n",
    "sp.I**2\n",
    "sp.exp(sp.pi *sp.I)"
   ]
  },
  {
   "cell_type": "markdown",
   "metadata": {},
   "source": [
    "common functions"
   ]
  },
  {
   "cell_type": "code",
   "execution_count": 57,
   "metadata": {},
   "outputs": [
    {
     "data": {
      "text/latex": [
       "$\\displaystyle x$"
      ],
      "text/plain": [
       "x"
      ]
     },
     "execution_count": 57,
     "metadata": {},
     "output_type": "execute_result"
    }
   ],
   "source": [
    "sp.log(x)\n",
    "sp.exp(sp.log(x))"
   ]
  },
  {
   "cell_type": "code",
   "execution_count": 58,
   "metadata": {},
   "outputs": [
    {
     "data": {
      "text/plain": [
       "{(2*p*q, p**2 - q**2, p**2 + q**2)}"
      ]
     },
     "execution_count": 58,
     "metadata": {},
     "output_type": "execute_result"
    }
   ],
   "source": [
    "from sympy.solvers.diophantine import diophantine\n",
    "from sympy import symbols, Eq\n",
    "a, b, c = symbols(\"a, b, c\", integer=True)\n",
    "my_syms = (a, b, c)\n",
    "pythag_eq = Eq(a**2 + b**2, c**2)\n",
    "# Solve Diophantine equation\n",
    "d = diophantine(pythag_eq, syms=my_syms)\n",
    "d"
   ]
  },
  {
   "cell_type": "code",
   "execution_count": 67,
   "metadata": {},
   "outputs": [
    {
     "data": {
      "text/latex": [
       "$\\displaystyle x^{2} = 5$"
      ],
      "text/plain": [
       "Eq(x**2, 5)"
      ]
     },
     "metadata": {},
     "output_type": "display_data"
    },
    {
     "data": {
      "text/plain": [
       "sympy.sets.sets.FiniteSet"
      ]
     },
     "metadata": {},
     "output_type": "display_data"
    },
    {
     "data": {
      "text/latex": [
       "$\\displaystyle \\sqrt{5}$"
      ],
      "text/plain": [
       "sqrt(5)"
      ]
     },
     "execution_count": 67,
     "metadata": {},
     "output_type": "execute_result"
    }
   ],
   "source": [
    "eq = sp.Eq(x**2, 5)\n",
    "display(eq)\n",
    "# we can solve equation with solveset()\n",
    "display(type(sp.solveset(eq)))\n",
    "list(sp.solveset(eq))[0]\n",
    "list(sp.solveset(x**2 -5, x))[0]\n",
    "\n"
   ]
  },
  {
   "cell_type": "code",
   "execution_count": 72,
   "metadata": {},
   "outputs": [
    {
     "data": {
      "text/latex": [
       "$\\displaystyle - \\sin{\\left(x \\right)} + \\cos{\\left(x \\right)} = 0$"
      ],
      "text/plain": [
       "Eq(-sin(x) + cos(x), 0)"
      ]
     },
     "metadata": {},
     "output_type": "display_data"
    },
    {
     "data": {
      "text/latex": [
       "$\\displaystyle \\left\\{2 n \\pi + \\frac{5 \\pi}{4}\\; \\middle|\\; n \\in \\mathbb{Z}\\right\\} \\cup \\left\\{2 n \\pi + \\frac{\\pi}{4}\\; \\middle|\\; n \\in \\mathbb{Z}\\right\\}$"
      ],
      "text/plain": [
       "Union(ImageSet(Lambda(_n, 2*_n*pi + 5*pi/4), Integers), ImageSet(Lambda(_n, 2*_n*pi + pi/4), Integers))"
      ]
     },
     "metadata": {},
     "output_type": "display_data"
    }
   ],
   "source": [
    "eq2 = sp.Eq(sp.cos(x) - sp.sin(x), 0)\n",
    "display(eq2)\n",
    "display(sp.solveset(eq2))"
   ]
  },
  {
   "cell_type": "markdown",
   "metadata": {},
   "source": [
    "Linear Equation:"
   ]
  },
  {
   "cell_type": "code",
   "execution_count": 75,
   "metadata": {},
   "outputs": [
    {
     "data": {
      "text/latex": [
       "$\\displaystyle x = 3 y + z$"
      ],
      "text/plain": [
       "Eq(x, 3*y + z)"
      ]
     },
     "execution_count": 75,
     "metadata": {},
     "output_type": "execute_result"
    }
   ],
   "source": [
    "y, z = sp.symbols('y, z')\n",
    "eq1 = sp.Eq(x, 3*y+z)\n",
    "eq1\n",
    "eq2 = sp.Eq(5*x - 3*y , y)\n",
    "eq2\n",
    "eq3 = sp.Eq(7*y - 3*z , x)\n",
    "sp.linsolve([eq1, eq2], x, y, z)"
   ]
  },
  {
   "cell_type": "code",
   "execution_count": 88,
   "metadata": {},
   "outputs": [
    {
     "data": {
      "text/latex": [
       "$\\displaystyle e^{x} e^{y}$"
      ],
      "text/plain": [
       "exp(x)*exp(y)"
      ]
     },
     "metadata": {},
     "output_type": "display_data"
    },
    {
     "data": {
      "text/latex": [
       "$\\displaystyle \\sin{\\left(y \\right)} - \\cos^{2}{\\left(x \\right)} + \\cos{\\left(x \\right)}$"
      ],
      "text/plain": [
       "sin(y) - cos(x)**2 + cos(x)"
      ]
     },
     "execution_count": 88,
     "metadata": {},
     "output_type": "execute_result"
    }
   ],
   "source": [
    "display(sp.exp(x+y).expand())\n",
    "trig = (sp.cos(x) + sp.sin(y)) - sp.cos(x)**2\n",
    "# trig.expand()\n",
    "trig"
   ]
  },
  {
   "cell_type": "code",
   "execution_count": 97,
   "metadata": {},
   "outputs": [
    {
     "data": {
      "text/latex": [
       "$\\displaystyle \\frac{x^{2} + 5 x + 6}{x + 7}$"
      ],
      "text/plain": [
       "(x**2 + 5*x + 6)/(x + 7)"
      ]
     },
     "execution_count": 97,
     "metadata": {},
     "output_type": "execute_result"
    }
   ],
   "source": [
    "p = x**3 + 10*x**2 + 31*x + 30\n",
    "q = x**2 + 12*x + 35\n",
    "fraction = p/q\n",
    "fraction.cancel()\n",
    "fraction.apart()\n",
    "fraction.simplify()"
   ]
  },
  {
   "cell_type": "code",
   "execution_count": 101,
   "metadata": {},
   "outputs": [
    {
     "data": {
      "text/latex": [
       "$\\displaystyle 5 + \\pi^{2}$"
      ],
      "text/plain": [
       "5 + pi**2"
      ]
     },
     "metadata": {},
     "output_type": "display_data"
    },
    {
     "data": {
      "text/latex": [
       "$\\displaystyle 14.9$"
      ],
      "text/plain": [
       "14.9"
      ]
     },
     "execution_count": 101,
     "metadata": {},
     "output_type": "execute_result"
    }
   ],
   "source": [
    "num = 5+sp.pi**2\n",
    "display(num)\n",
    "sp.N(num)\n",
    "sp.N(num, 3)"
   ]
  },
  {
   "cell_type": "code",
   "execution_count": 120,
   "metadata": {},
   "outputs": [
    {
     "data": {
      "text/latex": [
       "$\\displaystyle \\left(- 4 \\cot^{2}{\\left(2 y \\right)} - 4\\right) \\cos{\\left(x \\right)} \\cot{\\left(2 y \\right)}$"
      ],
      "text/plain": [
       "(-4*cot(2*y)**2 - 4)*cos(x)*cot(2*y)"
      ]
     },
     "metadata": {},
     "output_type": "display_data"
    },
    {
     "data": {
      "text/latex": [
       "$\\displaystyle \\frac{\\left(-4 - \\frac{\\sin^{2}{\\left(4 y \\right)}}{\\sin^{4}{\\left(2 y \\right)}}\\right) \\sin{\\left(4 y \\right)} \\sin{\\left(x + \\frac{\\pi}{2} \\right)}}{2 \\sin^{2}{\\left(2 y \\right)}}$"
      ],
      "text/plain": [
       "(-4 - sin(4*y)**2/sin(2*y)**4)*sin(4*y)*sin(x + pi/2)/(2*sin(2*y)**2)"
      ]
     },
     "metadata": {},
     "output_type": "display_data"
    },
    {
     "data": {
      "text/latex": [
       "$\\displaystyle - \\frac{4 \\cos{\\left(x \\right)} \\cot{\\left(2 y \\right)}}{\\sin^{2}{\\left(2 y \\right)}}$"
      ],
      "text/plain": [
       "-4*cos(x)*cot(2*y)/sin(2*y)**2"
      ]
     },
     "metadata": {},
     "output_type": "display_data"
    }
   ],
   "source": [
    "# ex= sp.exp(2**x+6*x+x**3) + sp.sin(x)\n",
    "# display(ex)\n",
    "# display(ex.diff())\n",
    "# sp.diff(sp.diff(ex))\n",
    "# sp.diff(ex, x, 3)\n",
    "twoV = sp.cos(x) * sp.cot(2*y)**2\n",
    "twoV\n",
    "partY= twoV.diff(y)\n",
    "display(partY)\n",
    "display(partY.rewrite(sp.sin))\n",
    "display(partY.simplify())"
   ]
  },
  {
   "cell_type": "code",
   "execution_count": 134,
   "metadata": {},
   "outputs": [
    {
     "data": {
      "text/latex": [
       "$\\displaystyle \\sin{\\left(3 x \\right)} \\cos{\\left(2 x \\right)}$"
      ],
      "text/plain": [
       "sin(3*x)*cos(2*x)"
      ]
     },
     "metadata": {},
     "output_type": "display_data"
    },
    {
     "data": {
      "text/latex": [
       "$\\displaystyle \\frac{6}{5}$"
      ],
      "text/plain": [
       "6/5"
      ]
     },
     "execution_count": 134,
     "metadata": {},
     "output_type": "execute_result"
    }
   ],
   "source": [
    "x, y, z = sp.symbols('x, y, z', real = True)\n",
    "C = sp.symbols('C')\n",
    "f = sp.cos(2*x) * sp.sin(3*x)\n",
    "display(f)\n",
    "sp.integrate(f) + C\n",
    "\n",
    "h = x**y\n",
    "h\n",
    "g = sp.integrate(h, y)\n",
    "g\n",
    "\n",
    "sp.integrate(f, (x, 0, sp.pi))"
   ]
  },
  {
   "cell_type": "code",
   "execution_count": 136,
   "metadata": {},
   "outputs": [
    {
     "data": {
      "text/latex": [
       "$\\displaystyle 1$"
      ],
      "text/plain": [
       "1"
      ]
     },
     "execution_count": 136,
     "metadata": {},
     "output_type": "execute_result"
    }
   ],
   "source": [
    "ex = x**2\n",
    "ex.subs(x,1)\n",
    "sp.limit(ex, x, 1)"
   ]
  },
  {
   "cell_type": "code",
   "execution_count": 139,
   "metadata": {},
   "outputs": [
    {
     "data": {
      "text/latex": [
       "$\\displaystyle - \\frac{\\left(x - \\frac{\\pi}{2}\\right)^{6}}{720} + \\frac{\\left(x - \\frac{\\pi}{2}\\right)^{4}}{24} - \\frac{\\left(x - \\frac{\\pi}{2}\\right)^{2}}{2} + 1$"
      ],
      "text/plain": [
       "-(x - pi/2)**6/720 + (x - pi/2)**4/24 - (x - pi/2)**2/2 + 1"
      ]
     },
     "execution_count": 139,
     "metadata": {},
     "output_type": "execute_result"
    }
   ],
   "source": [
    "sp.series(sp.sin(x), x, sp.pi/2, n =8).removeO()"
   ]
  },
  {
   "cell_type": "code",
   "execution_count": 157,
   "metadata": {},
   "outputs": [
    {
     "data": {
      "text/latex": [
       "$\\displaystyle C_{1} + C_{2} \\log{\\left(x \\right)} + \\frac{x^{4}}{16}$"
      ],
      "text/plain": [
       "C1 + C2*log(x) + x**4/16"
      ]
     },
     "metadata": {},
     "output_type": "display_data"
    },
    {
     "data": {
      "text/latex": [
       "$\\displaystyle \\frac{x^{4}}{16} + \\log{\\left(x \\right)}$"
      ],
      "text/plain": [
       "x**4/16 + log(x)"
      ]
     },
     "execution_count": 157,
     "metadata": {},
     "output_type": "execute_result"
    }
   ],
   "source": [
    "f = sp.Function('f')(x)\n",
    "f\n",
    "f.diff()\n",
    "f.integrate()\n",
    "\n",
    "diff_f= sp.Eq(x*f.diff(x,x) + f.diff(x), x**3)\n",
    "diff_f\n",
    "diff_f.rhs\n",
    "sol = sp.dsolve(diff_f)\n",
    "sol = sol.rhs\n",
    "display(sol)\n",
    "# C2, _, C1 = tuple(sol.free_Symbols)\n",
    "sol.free_symbols\n",
    "C1, C2, _ =tuple(sol.free_symbols)\n",
    "sol.subs(C1, 0).subs(C2, 1)"
   ]
  },
  {
   "cell_type": "markdown",
   "metadata": {},
   "source": []
  },
  {
   "cell_type": "code",
   "execution_count": 158,
   "metadata": {},
   "outputs": [
    {
     "name": "stdout",
     "output_type": "stream",
     "text": [
      "Optimized Parameters:\n",
      "Slope: 1.8862774152352733\n",
      "Intercept: 2.1379475159273382\n"
     ]
    }
   ],
   "source": [
    "import numpy as np\n",
    "from scipy.optimize import least_squares\n",
    "\n",
    "# Generate some example data\n",
    "np.random.seed(0)\n",
    "x = np.linspace(0, 10, 20)\n",
    "y_true = 2 * x + 1\n",
    "y_noise = np.random.normal(scale=1, size=x.shape)\n",
    "y = y_true + y_noise\n",
    "\n",
    "# Define the model function\n",
    "def model(params, x):\n",
    "    slope, intercept = params\n",
    "    return slope * x + intercept\n",
    "\n",
    "# Define the residual function (to minimize)\n",
    "def residuals(params, x, y):\n",
    "    return y - model(params, x)\n",
    "\n",
    "# Initial guess for parameters\n",
    "initial_params = [1.0, 0.0]\n",
    "\n",
    "# Perform least squares optimization\n",
    "result = least_squares(residuals, initial_params, args=(x, y))\n",
    "\n",
    "# Extract the optimized parameters\n",
    "optimized_params = result.x\n",
    "\n",
    "print(\"Optimized Parameters:\")\n",
    "print(\"Slope:\", optimized_params[0])\n",
    "print(\"Intercept:\", optimized_params[1])\n"
   ]
  },
  {
   "cell_type": "code",
   "execution_count": 164,
   "metadata": {},
   "outputs": [
    {
     "name": "stdout",
     "output_type": "stream",
     "text": [
      "0.0\n",
      "0.5263157894736842\n",
      "1.0526315789473684\n",
      "1.5789473684210527\n",
      "2.1052631578947367\n",
      "2.631578947368421\n",
      "3.1578947368421053\n",
      "3.6842105263157894\n",
      "4.2105263157894735\n",
      "4.7368421052631575\n",
      "5.263157894736842\n",
      "5.789473684210526\n",
      "6.315789473684211\n",
      "6.842105263157895\n",
      "7.368421052631579\n",
      "7.894736842105263\n",
      "8.421052631578947\n",
      "8.947368421052632\n",
      "9.473684210526315\n",
      "10.0\n"
     ]
    }
   ],
   "source": [
    "x = np.linspace(0, 10, 20)\n",
    "type(x)\n",
    "\n",
    "for num in x:\n",
    "    print(num)"
   ]
  },
  {
   "cell_type": "code",
   "execution_count": 165,
   "metadata": {},
   "outputs": [],
   "source": [
    "import matplotlib.pyplot as plt\n",
    "import numpy as np\n",
    "import pandas as pd\n"
   ]
  },
  {
   "cell_type": "code",
   "execution_count": null,
   "metadata": {},
   "outputs": [],
   "source": [
    "df = pd.read_csv('')"
   ]
  },
  {
   "cell_type": "code",
   "execution_count": 169,
   "metadata": {},
   "outputs": [
    {
     "name": "stdout",
     "output_type": "stream",
     "text": [
      "     message: `gtol` termination condition is satisfied.\n",
      "     success: True\n",
      "      status: 1\n",
      "         fun: [ 4.441e-15  1.110e-16]\n",
      "           x: [ 1.000e+00  1.000e+00]\n",
      "        cost: 9.866924291084687e-30\n",
      "         jac: [[-2.000e+01  1.000e+01]\n",
      "               [-1.000e+00  0.000e+00]]\n",
      "        grad: [-8.893e-14  4.441e-14]\n",
      "  optimality: 8.892886493421953e-14\n",
      " active_mask: [ 0.000e+00  0.000e+00]\n",
      "        nfev: 3\n",
      "        njev: 3\n"
     ]
    }
   ],
   "source": [
    "import scipy\n",
    "def fun_rosb(x):\n",
    "    return np.array([10*(x[1]-x[0]**2), (1-x[0])])\n",
    "\n",
    "from scipy.optimize import least_squares\n",
    "input = np.array([2,2])\n",
    "res = least_squares(fun_rosb, input)\n",
    "print(res)"
   ]
  },
  {
   "cell_type": "code",
   "execution_count": 171,
   "metadata": {},
   "outputs": [
    {
     "data": {
      "text/plain": [
       "array([1.94313871, 1.56897376])"
      ]
     },
     "execution_count": 171,
     "metadata": {},
     "output_type": "execute_result"
    }
   ],
   "source": [
    "np.random.seed(0)\n",
    "x = np.linspace(0, 10, 20)\n",
    "y = 2 * x + 1 + 0.5 * np.random.randn(len(x))\n",
    "\n",
    "# Define the function to fit (linear equation: y = mx + b)\n",
    "def func(params, x, y):\n",
    "    m, b = params\n",
    "    return m * x + b - y\n",
    "\n",
    "# Initial guess for the parameters (slope and intercept)\n",
    "initial_guess = [1, 1]\n",
    "\n",
    "# Use least_squares to fit the data\n",
    "result = least_squares(func, initial_guess, args=(x, y))\n",
    "\n",
    "# Extract the optimized parameters\n",
    "optimized_params = result.x\n",
    "\n",
    "# Print the results\n",
    "# print(\"Optimized slope:\", optimized_params[0])\n",
    "# print(\"Optimized intercept:\", optimized_params[1])\n",
    "optimized_params"
   ]
  },
  {
   "cell_type": "code",
   "execution_count": 176,
   "metadata": {},
   "outputs": [
    {
     "data": {
      "text/plain": [
       "numpy.ndarray"
      ]
     },
     "execution_count": 176,
     "metadata": {},
     "output_type": "execute_result"
    }
   ],
   "source": [
    "import numpy as np\n",
    "\n",
    "# Generate sample data\n",
    "np.random.seed(0)\n",
    "x = np.linspace(0, 10, 20)\n",
    "y = 2 * x + 1 + 0.5 * np.random.randn(len(x))\n",
    "type(y)\n",
    "# Create the design matrix\n",
    "# X = np.vstack((x, np.ones_like(x))).T\n",
    "# X\n",
    "\n",
    "# # Solve using the normal equation\n",
    "# coefficients = np.linalg.inv(X.T @ X) @ X.T @ y\n",
    "\n",
    "# # Extract the slope and intercept\n",
    "# slope, intercept = coefficients\n",
    "\n",
    "# # Print the results\n",
    "# print(\"Optimized slope:\", slope)\n",
    "# print(\"Optimized intercept:\", intercept)\n"
   ]
  },
  {
   "cell_type": "code",
   "execution_count": 183,
   "metadata": {},
   "outputs": [
    {
     "data": {
      "image/png": "[encoded data removed]",
      "text/plain": [
       "<Figure size 640x480 with 1 Axes>"
      ]
     },
     "metadata": {},
     "output_type": "display_data"
    }
   ],
   "source": [
    "import matplotlib.pyplot as plt\n",
    "import numpy as np\n",
    "import pandas as pd\n",
    "x = [1,2,3]\n",
    "y = [2,4,6]\n",
    "plt.title('first graph')\n",
    "plt.xlabel('gggg')\n",
    "plt.ylabel('gggg')\n",
    "plt.plot(x,y, label='2x', linewidth=2, marker='.')\n",
    "plt.xticks([0,1,2,3])\n",
    "plt.yticks([0,2,4,6])\n",
    "plt.show()"
   ]
  },
  {
   "cell_type": "code",
   "execution_count": 185,
   "metadata": {},
   "outputs": [
    {
     "data": {
      "image/png": "[encoded data removed]",
      "text/plain": [
       "<Figure size 640x480 with 1 Axes>"
      ]
     },
     "metadata": {},
     "output_type": "display_data"
    }
   ],
   "source": [
    "# import matplotlib.pyplot as plt\n",
    "\n",
    "x_data = [1, 2, 3, 4, 5]\n",
    "y_data = [10, 8, 6, 4, 2]\n",
    "\n",
    "plt.scatter(x_data, y_data)\n",
    "plt.xlabel('X-axis Label')\n",
    "plt.ylabel('Y-axis Label')\n",
    "plt.title('Scatter Plot Example')\n",
    "plt.show()\n"
   ]
  },
  {
   "cell_type": "code",
   "execution_count": 188,
   "metadata": {},
   "outputs": [
    {
     "data": {
      "image/png": "[encoded data removed]",
      "text/plain": [
       "<Figure size 640x480 with 1 Axes>"
      ]
     },
     "metadata": {},
     "output_type": "display_data"
    },
    {
     "data": {
      "text/plain": [
       "<Figure size 400x400 with 0 Axes>"
      ]
     },
     "metadata": {},
     "output_type": "display_data"
    }
   ],
   "source": [
    "labels = ['a,', 'b', 'c']\n",
    "values= [1,4,3]\n",
    "plt.bar(labels, values)\n",
    "plt.figure(figsize=(4,4))\n",
    "plt.show()"
   ]
  },
  {
   "cell_type": "code",
   "execution_count": null,
   "metadata": {},
   "outputs": [],
   "source": [
    "df = pd.read_csv('gas_prices.csv')"
   ]
  }
 ],
 "metadata": {
  "kernelspec": {
   "display_name": "Python 3",
   "language": "python",
   "name": "python3"
  },
  "language_info": {
   "codemirror_mode": {
    "name": "ipython",
    "version": 3
   },
   "file_extension": ".py",
   "mimetype": "text/x-python",
   "name": "python",
   "nbconvert_exporter": "python",
   "pygments_lexer": "ipython3",
   "version": "3.11.4"
  },
  "orig_nbformat": 4
 },
 "nbformat": 4,
 "nbformat_minor": 2
}
